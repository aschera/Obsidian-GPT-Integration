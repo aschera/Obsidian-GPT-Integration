{
 "cells": [
  {
   "cell_type": "code",
   "execution_count": 1,
   "metadata": {},
   "outputs": [
    {
     "name": "stdout",
     "output_type": "stream",
     "text": [
      "Requirement already satisfied: transformers in c:\\users\\asche\\anaconda3\\envs\\ailab\\lib\\site-packages (4.30.2)\n",
      "Requirement already satisfied: torch in c:\\users\\asche\\anaconda3\\envs\\ailab\\lib\\site-packages (1.13.1)\n",
      "Note: you may need to restart the kernel to use updated packages.\n"
     ]
    },
    {
     "name": "stderr",
     "output_type": "stream",
     "text": [
      "ERROR: Could not find a version that satisfies the requirement obsidian-vault (from versions: none)\n",
      "ERROR: No matching distribution found for obsidian-vault\n"
     ]
    }
   ],
   "source": [
    "pip install transformers torch obsidian-vault\n"
   ]
  },
  {
   "cell_type": "code",
   "execution_count": 2,
   "metadata": {},
   "outputs": [],
   "source": [
    "from transformers import GPT2LMHeadModel, GPT2Tokenizer\n",
    "from transformers import pipeline\n",
    "from transformers import AutoTokenizer, AutoModelForCausalLM\n",
    "import os"
   ]
  },
  {
   "cell_type": "markdown",
   "metadata": {},
   "source": [
    "# Model"
   ]
  },
  {
   "cell_type": "markdown",
   "metadata": {},
   "source": [
    "https://huggingface.co/openai-community/gpt2"
   ]
  },
  {
   "cell_type": "code",
   "execution_count": 3,
   "metadata": {},
   "outputs": [],
   "source": [
    "# Use a pipeline as a high-level helper\n",
    "# pipe = pipeline(\"text-generation\", model=\"openai-community/gpt2-large\")"
   ]
  },
  {
   "cell_type": "code",
   "execution_count": 4,
   "metadata": {},
   "outputs": [],
   "source": [
    "# Load pre-trained model and tokenizer\n",
    "model_name = 'openai-community/gpt2-large'\n",
    "tokenizer = AutoTokenizer.from_pretrained(model_name)\n",
    "\n",
    "# Add padding token to tokenizer\n",
    "if tokenizer.pad_token_id is None:\n",
    "    tokenizer.add_special_tokens({'pad_token': '[PAD]'})\n",
    "\n",
    "# Load model\n",
    "model = AutoModelForCausalLM.from_pretrained(model_name)"
   ]
  },
  {
   "cell_type": "markdown",
   "metadata": {},
   "source": [
    "# Vault"
   ]
  },
  {
   "cell_type": "code",
   "execution_count": 5,
   "metadata": {},
   "outputs": [],
   "source": [
    "# Path to your Obsidian vault\n",
    "vault_path = \"../../Dokumenter/All my AI things/\""
   ]
  },
  {
   "cell_type": "markdown",
   "metadata": {},
   "source": [
    "# Functions"
   ]
  },
  {
   "cell_type": "code",
   "execution_count": 6,
   "metadata": {},
   "outputs": [],
   "source": [
    "def generate_text(prompt, max_length=100):\n",
    "    inputs = tokenizer(prompt, return_tensors='pt', padding=True, truncation=True)\n",
    "    attention_mask = inputs.attention_mask\n",
    "    outputs = model.generate(inputs.input_ids, attention_mask=attention_mask, max_length=max_length, pad_token_id=tokenizer.eos_token_id, num_return_sequences=1)\n",
    "    return tokenizer.decode(outputs[0], skip_special_tokens=True)\n",
    "\n",
    "def read_markdown_file(filename):\n",
    "    with open(os.path.join(vault_path, filename), 'r', encoding='utf-8') as file:\n",
    "        return file.read()\n",
    "\n",
    "def write_markdown_file(filename, content):\n",
    "    with open(os.path.join(vault_path, filename), 'w', encoding='utf-8') as file:\n",
    "        file.write(content)\n"
   ]
  },
  {
   "cell_type": "markdown",
   "metadata": {},
   "source": [
    "# Execution"
   ]
  },
  {
   "cell_type": "code",
   "execution_count": 7,
   "metadata": {},
   "outputs": [
    {
     "name": "stdout",
     "output_type": "stream",
     "text": [
      "Original content: https://learn.deeplearning.ai/courses/building-your-own-database-agent[[]]/lesson/1/introduction\n",
      "\n",
      "-  Azure OpenAI\n",
      "- Langchain\n",
      "Updated content: https://learn.deeplearning.ai/courses/building-your-own-database-agent[[]]/lesson/1/introduction\n",
      "\n",
      "-  Azure OpenAI\n",
      "- Langchain\n",
      "\n",
      "- Deep Learning for Data Science\n",
      "\n",
      "- Deep Learning for Data Science - Deep Learning for Data Science - Deep Learning for Data Science - Deep Learning for Data Science - Deep Learning for Data Science - Deep Learning for Data Science - Deep Learning for Data Science - Deep Learning for Data Science\n"
     ]
    }
   ],
   "source": [
    "\n",
    "# Example usage\n",
    "filename = \"learning/Course Building Your Own Database Agent.md\"\n",
    "content = read_markdown_file(filename)\n",
    "print(\"Original content:\", content)\n",
    "\n",
    "# Generate new content using GPT-2\n",
    "new_content = generate_text(content)\n",
    "write_markdown_file(filename, new_content)\n",
    "print(\"Updated content:\", new_content)"
   ]
  }
 ],
 "metadata": {
  "kernelspec": {
   "display_name": "ailab",
   "language": "python",
   "name": "python3"
  },
  "language_info": {
   "codemirror_mode": {
    "name": "ipython",
    "version": 3
   },
   "file_extension": ".py",
   "mimetype": "text/x-python",
   "name": "python",
   "nbconvert_exporter": "python",
   "pygments_lexer": "ipython3",
   "version": "3.7.16"
  }
 },
 "nbformat": 4,
 "nbformat_minor": 2
}
